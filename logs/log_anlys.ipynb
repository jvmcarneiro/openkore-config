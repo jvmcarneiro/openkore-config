{
 "cells": [
  {
   "cell_type": "code",
   "execution_count": 5,
   "id": "246990b2",
   "metadata": {},
   "outputs": [],
   "source": [
    "import pandas as pd\n",
    "import numpy as np\n",
    "from pathlib import Path"
   ]
  },
  {
   "cell_type": "code",
   "execution_count": 6,
   "id": "0e68bfd0",
   "metadata": {},
   "outputs": [],
   "source": [
    "path = '.'\n",
    "mon_logs = Path(path).glob(\"monster_log_*\")\n",
    "itm_logs = Path(path).glob(r'item_log_*')"
   ]
  },
  {
   "cell_type": "code",
   "execution_count": 7,
   "id": "e4384c9b",
   "metadata": {},
   "outputs": [
    {
     "data": {
      "text/plain": [
       "monster  char    \n",
       "Argiope  player_1    135\n",
       "Name: count, dtype: int64"
      ]
     },
     "metadata": {},
     "output_type": "display_data"
    },
    {
     "data": {
      "text/plain": [
       "np.int64(135)"
      ]
     },
     "metadata": {},
     "output_type": "display_data"
    }
   ],
   "source": [
    "lst_mons = list()\n",
    "\n",
    "for f in mon_logs:\n",
    "    data = pd.read_csv(f, sep='] ', names=['time', 'monster'], engine='python')\n",
    "    data['char'] = f.stem[12:]\n",
    "    lst_mons.append(data[['monster', 'char']])\n",
    "\n",
    "df_mons = pd.concat(lst_mons, ignore_index=True)\n",
    "\n",
    "mon_lst = ['Argiope']\n",
    "mon_filt = df_mons['monster'].isin(mon_lst)\n",
    "\n",
    "display(df_mons[mon_filt][['monster', 'char']].value_counts())\n",
    "display(df_mons[mon_filt]['monster'].value_counts().sum())"
   ]
  },
  {
   "cell_type": "code",
   "execution_count": 8,
   "id": "5f46b30a",
   "metadata": {},
   "outputs": [
    {
     "data": {
      "text/plain": [
       "Series([], Name: count, dtype: int64)"
      ]
     },
     "metadata": {},
     "output_type": "display_data"
    },
    {
     "data": {
      "text/plain": [
       "np.int64(0)"
      ]
     },
     "metadata": {},
     "output_type": "display_data"
    }
   ],
   "source": [
    "lst_itms = list()\n",
    "\n",
    "for f in itm_logs:\n",
    "    data = pd.read_csv(f, sep=': ', names=['time', 'item'], engine='python')\n",
    "    data['item'] = data['item'].str.split(\" \\(\", n=1).str.get(0)\n",
    "    data['char'] = f.stem[9:]\n",
    "    lst_itms.append(data[['item', 'char']])\n",
    "\n",
    "df_itms = pd.concat(lst_itms, ignore_index=True)\n",
    "\n",
    "itm_lst = ['Boots [1]']\n",
    "itm_filt = df_itms['item'].isin(itm_lst)\n",
    "#itm_filt = df_itms['item'].str.contains('card', case=False)\n",
    "\n",
    "display(df_itms[itm_filt][['item', 'char']].value_counts())\n",
    "display(df_itms[itm_filt]['item'].value_counts().sum())"
   ]
  }
 ],
 "metadata": {
  "kernelspec": {
   "display_name": "Python 3",
   "language": "python",
   "name": "python3"
  },
  "language_info": {
   "codemirror_mode": {
    "name": "ipython",
    "version": 3
   },
   "file_extension": ".py",
   "mimetype": "text/x-python",
   "name": "python",
   "nbconvert_exporter": "python",
   "pygments_lexer": "ipython3",
   "version": "3.11.9"
  }
 },
 "nbformat": 4,
 "nbformat_minor": 5
}
